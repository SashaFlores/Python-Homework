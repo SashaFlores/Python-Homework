{
 "cells": [
  {
   "cell_type": "code",
   "execution_count": 118,
   "metadata": {},
   "outputs": [
    {
     "name": "stdout",
     "output_type": "stream",
     "text": [
      "86\n",
      "Jan-2010\n",
      "38382578\n",
      "[867884, 116771, -662642, -391430, 379920, 212354, 510239, -428211, -821271, 693918, 416278, -974163, 860159, -1115009, 1033048, 95318, -308093, 99052, -521393, 605450, 231727, -65187, -702716, 177975, -1065544, 1926159, -917805, 898730, -334262, -246499, -64055, -1529236, 1497596, 304914, -635801, 398319, -183161, -37864, -253689, 403655, 94168, 306877, -83000, 210462, -2196167, 1465222, -956983, 1838447, -468003, -64602, 206242, -242155, -449079, 315198, 241099, 111540, 365942, -219310, -368665, 409837, 151210, -110244, -341938, -1212159, 683246, -70825, 335594, 417334, -272194, -236462, 657432, -211262, -128237, -1750387, 925441, 932089, -311434, 267252, -1876758, 1733696, 198551, -665765, 693229, -734926, 77242, 532869]\n",
      "7803.476744186047\n"
     ]
    }
   ],
   "source": [
    "# Import csvfile:\n",
    "import csv\n",
    "\n",
    "# Initialize lists to hold values of our pnl & count & changes from monthly flcutations in pnl:\n",
    "profit_losses = []\n",
    "dates = []\n",
    "pnl_changes = []\n",
    "\n",
    "# Define metric variables:\n",
    "#can't use append as int obj has no .append(): if count = 0 then count +=1/ count =[] then append\n",
    "line_num = 0\n",
    "net_pnl = 0\n",
    "greatest_loss = 0\n",
    "greatest_profit = 0\n",
    "previous_profit_loss = 0\n",
    "average_change = 0\n",
    "\n",
    "\n",
    "# open & read csvfile:\n",
    "with open('budget_data.csv', 'r') as csvfile:\n",
    "    csvreader = csv.reader(csvfile, delimiter=',')\n",
    "    header = next(csvreader)\n",
    "    line_num += 1\n",
    "     \n",
    "    # use a for loop to go through each row in csvfile & iterate count by 1:\n",
    "    for row in csvreader:\n",
    "        # define date:\n",
    "        date = row[0]\n",
    "        # define profit_loss:\n",
    "        profit_loss = row [1]\n",
    "        # add date value to date list:\n",
    "        dates.append(date)\n",
    "        # add pnl variable to pnl_ls: \n",
    "        profit_losses.append(profit_loss)\n",
    "        #calculate the sum of pnl variable in pnl_ls:\n",
    "        net_pnl += int(row[1])\n",
    "       \n",
    "     \n",
    "        # calculate pnl_change initializing 1st previous month to zero:\n",
    "        pnl_change = int(row[1]) - previous_profit_loss\n",
    "        \n",
    "        # to reset value of previous_profit_loss where I completed my analysis\n",
    "        previous_profit_loss = int(row[1]) \n",
    "        \n",
    "        # append monthly pnl_change to pnl_changes list:\n",
    "        pnl_changes.append(pnl_change)\n",
    "        \n",
    "        # determine the average of changes in pnl over entire period:\n",
    "        average_change = sum(pnl_changes) / len(pnl_changes) #trouble getting the correct number.\n",
    "      \n",
    "       \n",
    "        #print(row)   #for troubleshooting\n",
    "        #print(pnl_change)\n",
    "        #print(row)\n",
    "\n",
    "print(len(dates))  \n",
    "print(dates[0])\n",
    "print(net_pnl)\n",
    "print(pnl_changes)\n",
    "print(average_change)\n",
    "\n",
    "\n",
    "\n"
   ]
  },
  {
   "cell_type": "code",
   "execution_count": 119,
   "metadata": {},
   "outputs": [
    {
     "name": "stdout",
     "output_type": "stream",
     "text": [
      "-2196167\n",
      "1926159\n"
     ]
    }
   ],
   "source": [
    "# if analysis to get the greatest_loss & profit in pnl_changes not pnl\n",
    "for row in pnl_changes: \n",
    "    if greatest_loss == 0:\n",
    "        greatest_loss = row\n",
    "    if row > greatest_profit: \n",
    "        greatest_profit = row\n",
    "    elif row < greatest_loss: \n",
    "        greatest_loss = row\n",
    "print(greatest_loss)\n",
    "print(greatest_profit)\n"
   ]
  },
  {
   "cell_type": "code",
   "execution_count": 120,
   "metadata": {},
   "outputs": [
    {
     "name": "stdout",
     "output_type": "stream",
     "text": [
      "Feb-2012\n",
      "Sep-2013\n"
     ]
    }
   ],
   "source": [
    "greatest_profit_date = months[pnl_changes.index(1926159)]\n",
    "greatest_loss_date = months[pnl_changes.index(-2196167)]\n",
    "print(greatest_profit_date)\n",
    "print(greatest_loss_date)"
   ]
  },
  {
   "cell_type": "code",
   "execution_count": 121,
   "metadata": {},
   "outputs": [
    {
     "name": "stdout",
     "output_type": "stream",
     "text": [
      "Financial Analysis\n",
      "-----------------------\n",
      "Total Months: 86\n",
      "Total: $ 38382578\n",
      "Average Change: $ 7803.476744186047\n",
      "Greatest Increase in Profits was: $ 1926159, on Feb-2012\n",
      "Greastest Decrease in Profits was: $ -2196167, on Sep-2013\n"
     ]
    }
   ],
   "source": [
    "print(\"Financial Analysis\")\n",
    "print(\"-----------------------\")\n",
    "print(f\"Total Months: {len(dates)}\")\n",
    "print(f\"Total: $ {net_pnl}\")\n",
    "print(f\"Average Change: $ {average_change}\")\n",
    "print(f\"Greatest Increase in Profits was: $ {greatest_profit}, on {greatest_profit_date}\")\n",
    "print(f\"Greastest Decrease in Losses was: $ {greatest_loss}, on {greatest_loss_date}\")"
   ]
  },
  {
   "cell_type": "code",
   "execution_count": 122,
   "metadata": {},
   "outputs": [],
   "source": [
    "# Set the output file path\n",
    "file_to_output = \"financial_analysis.txt\"\n",
    "\n",
    "# Open the output_path as a file object in \"write\" mode ('w')\n",
    "# Write a header line and write the contents of 'text' to the file\n",
    "\n",
    "with open(file_to_output, 'w') as file:\n",
    "    file.write(\"Financial Analysis\")\n",
    "    file.write(\"\\n --------------------\")\n",
    "    file.write(f\"\\n Total Months: {len(dates)}\")\n",
    "    file.write(f\"\\n Total: $ {net_pnl}\")\n",
    "    file.write(f\"\\n Average Change: $ {average_change}\")\n",
    "    file.write(f\"\\n Greastest Decrease in Losses was: $ {greatest_loss}, on {greatest_loss_date} \")\n",
    "    file.write(f\"\\n Greastest Increase in Profits was: $ {greatest_profit}, on {greatest_profit_date} \")\n",
    "    \n",
    "\n",
    "        "
   ]
  },
  {
   "cell_type": "raw",
   "metadata": {},
   "source": []
  },
  {
   "cell_type": "code",
   "execution_count": null,
   "metadata": {},
   "outputs": [],
   "source": [
    "\n",
    "        \n",
    "  \n",
    "         "
   ]
  },
  {
   "cell_type": "code",
   "execution_count": null,
   "metadata": {},
   "outputs": [],
   "source": [
    "\n",
    "    \n"
   ]
  },
  {
   "cell_type": "code",
   "execution_count": null,
   "metadata": {},
   "outputs": [],
   "source": []
  },
  {
   "cell_type": "code",
   "execution_count": null,
   "metadata": {},
   "outputs": [],
   "source": [
    "   "
   ]
  },
  {
   "cell_type": "code",
   "execution_count": null,
   "metadata": {},
   "outputs": [],
   "source": [
    "\n"
   ]
  },
  {
   "cell_type": "code",
   "execution_count": null,
   "metadata": {},
   "outputs": [],
   "source": []
  },
  {
   "cell_type": "code",
   "execution_count": null,
   "metadata": {},
   "outputs": [],
   "source": []
  },
  {
   "cell_type": "code",
   "execution_count": null,
   "metadata": {},
   "outputs": [],
   "source": []
  },
  {
   "cell_type": "code",
   "execution_count": null,
   "metadata": {},
   "outputs": [],
   "source": []
  },
  {
   "cell_type": "code",
   "execution_count": null,
   "metadata": {},
   "outputs": [],
   "source": []
  },
  {
   "cell_type": "code",
   "execution_count": null,
   "metadata": {},
   "outputs": [],
   "source": []
  }
 ],
 "metadata": {
  "kernelspec": {
   "display_name": "Python 3",
   "language": "python",
   "name": "python3"
  },
  "language_info": {
   "codemirror_mode": {
    "name": "ipython",
    "version": 3
   },
   "file_extension": ".py",
   "mimetype": "text/x-python",
   "name": "python",
   "nbconvert_exporter": "python",
   "pygments_lexer": "ipython3",
   "version": "3.7.6"
  }
 },
 "nbformat": 4,
 "nbformat_minor": 4
}
