{
 "cells": [
  {
   "cell_type": "code",
   "execution_count": 15,
   "metadata": {},
   "outputs": [
    {
     "name": "stdout",
     "output_type": "stream",
     "text": [
      "\n",
      "\n",
      "\n",
      "Financial Analysis\n",
      "-------------------------\n",
      "Total Months: 86\n",
      "Total Revenue: $38382578\n",
      "Average Change: $446309.05\n",
      "Greatest Increase: Feb-2012 ($1926159)\n",
      "Greatest Decrease: Sep-2013 ($-2196167)\n"
     ]
    }
   ],
   "source": [
    "# using dictreader to get the right average_change: \n",
    "import csv\n",
    "from pathlib import Path\n",
    "\n",
    "# Files to Load\n",
    "file_to_load = ('C:/Users/ooshy/Jupyter-Workspace/Python-Homework/PyBank/budget_data.csv')\n",
    "file_to_output = ('C:/Users/ooshy/Jupyter-Workspace/Python-Homework/PyBank/financial_analysis.txt')\n",
    "\n",
    "# Variables to Track\n",
    "total_months = 0\n",
    "total_profit = 0\n",
    "\n",
    "prev_profit = 0\n",
    "profit_change = 0\n",
    "greatest_increase = [\"\", 0]\n",
    "greatest_decrease = [\"\", 9999999999999999999999]\n",
    "\n",
    "profit_changes = []\n",
    "\n",
    "# Read Files\n",
    "with open(file_to_load) as budget_data:\n",
    "    reader = csv.DictReader(budget_data)\n",
    "\n",
    "    # Loop through all the rows of data we collect\n",
    "    for row in reader:\n",
    "\n",
    "        # Calculate the totals\n",
    "        total_months = total_months + 1\n",
    "        total_profit = total_profit + int(row[\"Profit/Losses\"])\n",
    "        # print(row)\n",
    "\n",
    "        # Keep track of changes\n",
    "        profit_change = int(row[\"Profit/Losses\"]) - prev_profit\n",
    "        # print(profit_change)\n",
    "\n",
    "        # Reset the value of prev_profit to the row I completed my analysis\n",
    "        prev_profit = int(row[\"Profit/Losses\"])\n",
    "        # print(prev_profit)\n",
    "\n",
    "        # Determine the greatest increase\n",
    "        if (profit_change > greatest_increase[1]):\n",
    "            greatest_increase[1] = profit_change\n",
    "            greatest_increase[0] = row[\"Date\"]\n",
    "\n",
    "        if (profit_change < greatest_decrease[1]):\n",
    "            greatest_decrease[1] = profit_change\n",
    "            greatest_decrease[0] = row[\"Date\"]\n",
    "\n",
    "        # Add to the revenue_changes list\n",
    "        profit_changes.append(int(row[\"Profit/Losses\"]))\n",
    "    # Set the Revenue average\n",
    "    change_avg = sum(profit_changes) / len(profit_changes)\n",
    "    \n",
    "    # Show Output\n",
    "    print()\n",
    "    print()\n",
    "    print()\n",
    "    print(\"Financial Analysis\")\n",
    "    print(\"-------------------------\")\n",
    "    print(\"Total Months: \" + str(total_months))\n",
    "    print(\"Total Revenue: \" + \"$\" + str(total_profit))\n",
    "    print(\"Average Change: \" + \"$\" + str(round(sum(profit_changes) / len(profit_changes),2)))\n",
    "    print(\"Greatest Increase: \" + str(greatest_increase[0]) + \" ($\" +  str(greatest_increase[1]) + \")\") \n",
    "    print(\"Greatest Decrease: \" + str(greatest_decrease[0]) + \" ($\" +  str(greatest_decrease[1]) + \")\")\n",
    "    \n",
    "    \n",
    "  "
   ]
  },
  {
   "cell_type": "code",
   "execution_count": 10,
   "metadata": {},
   "outputs": [
    {
     "data": {
      "text/plain": [
       "WindowsPath('C:/Users/ooshy/Jupyter-Workspace/Python-Homework/PyBank')"
      ]
     },
     "execution_count": 10,
     "metadata": {},
     "output_type": "execute_result"
    }
   ],
   "source": [
    "Path.cwd()"
   ]
  },
  {
   "cell_type": "code",
   "execution_count": 14,
   "metadata": {},
   "outputs": [],
   "source": [
    "# this is not going well....."
   ]
  },
  {
   "cell_type": "code",
   "execution_count": null,
   "metadata": {},
   "outputs": [],
   "source": []
  }
 ],
 "metadata": {
  "kernelspec": {
   "display_name": "Python 3",
   "language": "python",
   "name": "python3"
  },
  "language_info": {
   "codemirror_mode": {
    "name": "ipython",
    "version": 3
   },
   "file_extension": ".py",
   "mimetype": "text/x-python",
   "name": "python",
   "nbconvert_exporter": "python",
   "pygments_lexer": "ipython3",
   "version": "3.7.6"
  }
 },
 "nbformat": 4,
 "nbformat_minor": 4
}
